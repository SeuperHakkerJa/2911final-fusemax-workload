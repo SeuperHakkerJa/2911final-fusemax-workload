{
 "cells": [
  {
   "cell_type": "code",
   "execution_count": 1,
   "id": "93e973dd-6b17-49ae-afcd-e7cbfce22557",
   "metadata": {},
   "outputs": [],
   "source": [
    "%matplotlib inline\n",
    "\n",
    "import os\n",
    "import sys\n",
    "sys.path.insert(0, \"..\")\n",
    "\n",
    "import src.scripts.experiments as experiments\n",
    "import src.scripts.check as check\n",
    "import src.scripts.runpythia as run\n",
    "import src.utils.graph as graph"
   ]
  },
  {
   "cell_type": "code",
   "execution_count": 2,
   "id": "4be1cf70-45e5-4be4-8084-be928192a592",
   "metadata": {},
   "outputs": [
    {
     "data": {
      "application/vnd.jupyter.widget-view+json": {
       "model_id": "6a952dd00b7d44deaedb612f18e208a5",
       "version_major": 2,
       "version_minor": 0
      },
      "text/plain": [
       "Dropdown(description='Select experiment:', options=('pregenerated', '2025-04-25_12-23-40', '2025-04-27_14-36-2…"
      ]
     },
     "metadata": {},
     "output_type": "display_data"
    },
    {
     "data": {
      "application/vnd.jupyter.widget-view+json": {
       "model_id": "1f3ee8d53738446a9596e7649d93a0ac",
       "version_major": 2,
       "version_minor": 0
      },
      "text/plain": [
       "Button(description='New Experiment', style=ButtonStyle())"
      ]
     },
     "metadata": {},
     "output_type": "display_data"
    },
    {
     "data": {
      "application/vnd.jupyter.widget-view+json": {
       "model_id": "a8bfc77e77ba465482fc44b23aeee16d",
       "version_major": 2,
       "version_minor": 0
      },
      "text/plain": [
       "Button(button_style='danger', description='Delete Experiment', style=ButtonStyle())"
      ]
     },
     "metadata": {},
     "output_type": "display_data"
    },
    {
     "data": {
      "application/vnd.jupyter.widget-view+json": {
       "model_id": "6e4a6dd2b54a45e28f21000f89614509",
       "version_major": 2,
       "version_minor": 0
      },
      "text/plain": [
       "Output()"
      ]
     },
     "metadata": {},
     "output_type": "display_data"
    }
   ],
   "source": [
    "exp = experiments.Experiments()"
   ]
  },
  {
   "cell_type": "code",
   "execution_count": 17,
   "id": "71d52bae-6887-402b-8ba3-f4c51248d20e",
   "metadata": {},
   "outputs": [
    {
     "ename": "FileNotFoundError",
     "evalue": "[Errno 2] No such file or directory: '../outputs/generated/2025-05-06_15-47-57/results/attn-flat.csv'",
     "output_type": "error",
     "traceback": [
      "\u001b[0;31m---------------------------------------------------------------------------\u001b[0m",
      "\u001b[0;31mFileNotFoundError\u001b[0m                         Traceback (most recent call last)",
      "Cell \u001b[0;32mIn[17], line 2\u001b[0m\n\u001b[1;32m      1\u001b[0m experiment_dir \u001b[38;5;241m=\u001b[39m exp\u001b[38;5;241m.\u001b[39mget_output_dir()\n\u001b[0;32m----> 2\u001b[0m data \u001b[38;5;241m=\u001b[39m \u001b[43mgraph\u001b[49m\u001b[38;5;241;43m.\u001b[39;49m\u001b[43mload_data\u001b[49m\u001b[43m(\u001b[49m\u001b[38;5;124;43m\"\u001b[39;49m\u001b[38;5;124;43mutil_2d\u001b[39;49m\u001b[38;5;124;43m\"\u001b[39;49m\u001b[43m,\u001b[49m\u001b[43m \u001b[49m\u001b[43mexperiment_dir\u001b[49m\u001b[38;5;241;43m=\u001b[39;49m\u001b[43mexperiment_dir\u001b[49m\u001b[43m)\u001b[49m\n\u001b[1;32m      3\u001b[0m graph\u001b[38;5;241m.\u001b[39mdraw_bar_graph(data, \u001b[38;5;124m\"\u001b[39m\u001b[38;5;124mUtilization 2D\u001b[39m\u001b[38;5;124m\"\u001b[39m, \u001b[38;5;124m\"\u001b[39m\u001b[38;5;124mfig6b\u001b[39m\u001b[38;5;124m\"\u001b[39m, experiment_dir\u001b[38;5;241m=\u001b[39mexperiment_dir)\n",
      "File \u001b[0;32m~/workspace/notebooks/../src/utils/graph.py:28\u001b[0m, in \u001b[0;36mload_data\u001b[0;34m(col, kernel, raw_cb, data_cb, skip, experiment_dir)\u001b[0m\n\u001b[1;32m     25\u001b[0m \u001b[38;5;28;01mif\u001b[39;00m accel \u001b[38;5;129;01min\u001b[39;00m skip:\n\u001b[1;32m     26\u001b[0m     \u001b[38;5;28;01mcontinue\u001b[39;00m\n\u001b[0;32m---> 28\u001b[0m reader \u001b[38;5;241m=\u001b[39m \u001b[43mCSVUtils\u001b[49m\u001b[43m(\u001b[49m\u001b[43mresults_dir\u001b[49m\u001b[43m \u001b[49m\u001b[38;5;241;43m/\u001b[39;49m\u001b[43m \u001b[49m\u001b[38;5;124;43mf\u001b[39;49m\u001b[38;5;124;43m\"\u001b[39;49m\u001b[38;5;124;43mattn-\u001b[39;49m\u001b[38;5;132;43;01m{\u001b[39;49;00m\u001b[43maccel\u001b[49m\u001b[38;5;132;43;01m}\u001b[39;49;00m\u001b[38;5;124;43m.csv\u001b[39;49m\u001b[38;5;124;43m\"\u001b[39;49m\u001b[43m)\u001b[49m\n\u001b[1;32m     30\u001b[0m attn_csv \u001b[38;5;241m=\u001b[39m reader\u001b[38;5;241m.\u001b[39mget_all()\n\u001b[1;32m     31\u001b[0m i \u001b[38;5;241m=\u001b[39m attn_csv[\u001b[38;5;241m0\u001b[39m]\u001b[38;5;241m.\u001b[39mindex(col)\n",
      "File \u001b[0;32m~/workspace/notebooks/../src/utils/csv_utils.py:5\u001b[0m, in \u001b[0;36mCSVUtils.__init__\u001b[0;34m(self, fn)\u001b[0m\n\u001b[1;32m      2\u001b[0m \u001b[38;5;28;01mdef\u001b[39;00m\u001b[38;5;250m \u001b[39m\u001b[38;5;21m__init__\u001b[39m(\u001b[38;5;28mself\u001b[39m, fn):\n\u001b[1;32m      3\u001b[0m     \u001b[38;5;28mself\u001b[39m\u001b[38;5;241m.\u001b[39mfn \u001b[38;5;241m=\u001b[39m fn\n\u001b[0;32m----> 5\u001b[0m     \u001b[38;5;28;01mwith\u001b[39;00m \u001b[38;5;28;43mopen\u001b[39;49m\u001b[43m(\u001b[49m\u001b[38;5;28;43mself\u001b[39;49m\u001b[38;5;241;43m.\u001b[39;49m\u001b[43mfn\u001b[49m\u001b[43m,\u001b[49m\u001b[43m \u001b[49m\u001b[38;5;124;43m\"\u001b[39;49m\u001b[38;5;124;43mr\u001b[39;49m\u001b[38;5;124;43m\"\u001b[39;49m\u001b[43m)\u001b[49m \u001b[38;5;28;01mas\u001b[39;00m f:\n\u001b[1;32m      6\u001b[0m         header \u001b[38;5;241m=\u001b[39m f\u001b[38;5;241m.\u001b[39mreadline()\u001b[38;5;241m.\u001b[39mstrip()\u001b[38;5;241m.\u001b[39msplit(\u001b[38;5;124m\"\u001b[39m\u001b[38;5;124m,\u001b[39m\u001b[38;5;124m\"\u001b[39m)\n\u001b[1;32m      8\u001b[0m     \u001b[38;5;28mself\u001b[39m\u001b[38;5;241m.\u001b[39mheader_pos \u001b[38;5;241m=\u001b[39m {}\n",
      "\u001b[0;31mFileNotFoundError\u001b[0m: [Errno 2] No such file or directory: '../outputs/generated/2025-05-06_15-47-57/results/attn-flat.csv'"
     ]
    }
   ],
   "source": [
    "experiment_dir = exp.get_output_dir()\n",
    "data = graph.load_data(\"util_2d\", experiment_dir=experiment_dir)\n",
    "graph.draw_bar_graph(data, \"Utilization 2D\", \"fig6b\", experiment_dir=experiment_dir)"
   ]
  },
  {
   "cell_type": "code",
   "execution_count": 4,
   "id": "5d9ffaa5-30b1-4f61-b5e3-2667aef34267",
   "metadata": {},
   "outputs": [],
   "source": [
    "PYTHIA_PARAMS_FOR_CASCADE = {\n",
    "    \"B\": 64, \"D\": 128, \"E\": 32, \"F\": 32, \"H\": 4, \"M\": 1024, \"P\": 1024, \"S\": 512\n",
    "}\n",
    "\n",
    "\n",
    "\n",
    "# For 4 quadrants\n",
    "PYTHIA_CORE_PARAMS = {\n",
    "    \"B\": 64, \"D\": 128, \"E\": 32, \"F\": 32, \"H\": 4, \"S\": 512\n",
    "}\n",
    "SC_CTX_LEN = 512\n",
    "LC_CTX_LEN = 4096\n",
    "GEN_OFFSET_FOR_LONG_GEN = 2048 # How many additional tokens for \"long generation\"\n",
    "QUERY_LEN_DECODE = 1\n",
    "\n",
    "\n",
    "PYTHIA_SC_SG_PARAMS = {**PYTHIA_CORE_PARAMS, \"M\": SC_CTX_LEN, \"P\": QUERY_LEN_DECODE}"
   ]
  },
  {
   "cell_type": "code",
   "execution_count": 5,
   "id": "d8c4170a-d332-4ff1-934c-98de797c63de",
   "metadata": {},
   "outputs": [
    {
     "data": {
      "text/plain": [
       "{'B': 64, 'D': 128, 'E': 32, 'F': 32, 'H': 4, 'M': 1024, 'P': 1024, 'S': 512}"
      ]
     },
     "execution_count": 5,
     "metadata": {},
     "output_type": "execute_result"
    }
   ],
   "source": [
    "PYTHIA_PARAMS_FOR_CASCADE"
   ]
  },
  {
   "cell_type": "code",
   "execution_count": 6,
   "id": "31fefba8-0a96-4fa8-b646-f72faa3eb981",
   "metadata": {},
   "outputs": [
    {
     "data": {
      "text/plain": [
       "{'B': 64, 'D': 128, 'E': 32, 'F': 32, 'H': 4, 'S': 512, 'M': 512, 'P': 1}"
      ]
     },
     "execution_count": 6,
     "metadata": {},
     "output_type": "execute_result"
    }
   ],
   "source": [
    "PYTHIA_SC_SG_PARAMS"
   ]
  },
  {
   "cell_type": "code",
   "execution_count": 10,
   "id": "d6b5a4c0-e692-4e94-be90-3bfade6c2774",
   "metadata": {},
   "outputs": [
    {
     "data": {
      "text/plain": [
       "{'B': 64,\n",
       " 'D': 9216,\n",
       " 'E': 128,\n",
       " 'F': 128,\n",
       " 'H': 72,\n",
       " 'M': 2048,\n",
       " 'P': 2048,\n",
       " 'S': 36864}"
      ]
     },
     "execution_count": 10,
     "metadata": {},
     "output_type": "execute_result"
    }
   ],
   "source": [
    "OPT_9B_2K_PREFILL_PARAMS"
   ]
  },
  {
   "cell_type": "code",
   "execution_count": 9,
   "id": "a024c87a-4505-4745-ad42-1fda46be221e",
   "metadata": {},
   "outputs": [],
   "source": [
    "OPT_9B_2K_PREFILL_PARAMS = {\n",
    "    \"B\": 64,    \n",
    "    \"D\": 9216,  \n",
    "    \"E\": 128,   \n",
    "    \"F\": 128,   \n",
    "    \"H\": 72,    \n",
    "    \"M\": 2048,  \n",
    "    \"P\": 2048,  \n",
    "    \"S\": 36864  \n",
    "}"
   ]
  },
  {
   "cell_type": "code",
   "execution_count": null,
   "id": "cc65ea0a-0ff2-481e-8182-d7f28d5bcbc2",
   "metadata": {},
   "outputs": [],
   "source": []
  }
 ],
 "metadata": {
  "kernelspec": {
   "display_name": "Python 3 (ipykernel)",
   "language": "python",
   "name": "python3"
  },
  "language_info": {
   "codemirror_mode": {
    "name": "ipython",
    "version": 3
   },
   "file_extension": ".py",
   "mimetype": "text/x-python",
   "name": "python",
   "nbconvert_exporter": "python",
   "pygments_lexer": "ipython3",
   "version": "3.10.12"
  }
 },
 "nbformat": 4,
 "nbformat_minor": 5
}
