{
 "cells": [
  {
   "cell_type": "code",
   "execution_count": 1,
   "id": "7ff0929d-ccff-4667-a472-035affefe075",
   "metadata": {},
   "outputs": [],
   "source": [
    "%matplotlib inline\n",
    "\n",
    "import os\n",
    "import sys\n",
    "sys.path.insert(0, \"..\")\n",
    "\n",
    "import src.scripts.experiments as experiments\n",
    "import src.scripts.check as check\n",
    "import src.scripts.runpythia as run\n",
    "import src.utils.graph as graph"
   ]
  },
  {
   "cell_type": "code",
   "execution_count": 2,
   "id": "40850ac5-19d7-4865-8b87-152faf155b7a",
   "metadata": {},
   "outputs": [
    {
     "data": {
      "application/vnd.jupyter.widget-view+json": {
       "model_id": "ab0af526e0394d1a8e32bade52a0d5bb",
       "version_major": 2,
       "version_minor": 0
      },
      "text/plain": [
       "Dropdown(description='Select experiment:', options=('pregenerated', '2025-04-25_12-23-40', '2025-04-27_14-36-2…"
      ]
     },
     "metadata": {},
     "output_type": "display_data"
    },
    {
     "data": {
      "application/vnd.jupyter.widget-view+json": {
       "model_id": "bdfb5eb3ef3942d4b4859edeb82b6fb0",
       "version_major": 2,
       "version_minor": 0
      },
      "text/plain": [
       "Button(description='New Experiment', style=ButtonStyle())"
      ]
     },
     "metadata": {},
     "output_type": "display_data"
    },
    {
     "data": {
      "application/vnd.jupyter.widget-view+json": {
       "model_id": "6c0a65d3735144f3a577c7c6ea8cc5ba",
       "version_major": 2,
       "version_minor": 0
      },
      "text/plain": [
       "Button(button_style='danger', description='Delete Experiment', style=ButtonStyle())"
      ]
     },
     "metadata": {},
     "output_type": "display_data"
    },
    {
     "data": {
      "application/vnd.jupyter.widget-view+json": {
       "model_id": "10c437a5ee09495880aaeab3688109de",
       "version_major": 2,
       "version_minor": 0
      },
      "text/plain": [
       "Output()"
      ]
     },
     "metadata": {},
     "output_type": "display_data"
    }
   ],
   "source": [
    "exp = experiments.Experiments()"
   ]
  },
  {
   "cell_type": "code",
   "execution_count": 3,
   "id": "7d2ef394-cc4b-4bf8-a514-2c825d7e966c",
   "metadata": {},
   "outputs": [
    {
     "data": {
      "application/vnd.jupyter.widget-view+json": {
       "model_id": "ad2d669dad62472b9e6a478284c2fbb8",
       "version_major": 2,
       "version_minor": 0
      },
      "text/plain": [
       "Evaluating models:   0%|          | 0/2 [00:00<?, ?combination/s]"
      ]
     },
     "metadata": {},
     "output_type": "display_data"
    },
    {
     "name": "stdout",
     "output_type": "stream",
     "text": [
      "Evaluating Pythia_SC_SG on 1K tokens\n",
      "Cascade __init__: Directly instantiating Transformer for Pythia_SC_SG\n",
      "Cascade __init__: Directly instantiating Transformer for Pythia_SC_SG\n",
      "Evaluating pythia on 1K tokens\n",
      "Cascade __init__: Directly instantiating Transformer for pythia\n",
      "Cascade __init__: Directly instantiating Transformer for pythia\n"
     ]
    }
   ],
   "source": [
    "run.attn(\"unfused\", experiment_dir=exp.get_output_dir())"
   ]
  },
  {
   "cell_type": "code",
   "execution_count": 4,
   "id": "622f59f2-00f7-4909-b635-4c538fe1c9ad",
   "metadata": {},
   "outputs": [
    {
     "data": {
      "application/vnd.jupyter.widget-view+json": {
       "model_id": "215962a4eb9a4da596103aa2d43fe2d6",
       "version_major": 2,
       "version_minor": 0
      },
      "text/plain": [
       "Evaluating models:   0%|          | 0/2 [00:00<?, ?combination/s]"
      ]
     },
     "metadata": {},
     "output_type": "display_data"
    },
    {
     "name": "stdout",
     "output_type": "stream",
     "text": [
      "Evaluating Pythia_SC_SG on 1K tokens\n",
      "Cascade __init__: Directly instantiating Transformer for Pythia_SC_SG\n",
      "Evaluating pythia on 1K tokens\n",
      "Cascade __init__: Directly instantiating Transformer for pythia\n",
      "8\n",
      "8\n"
     ]
    }
   ],
   "source": [
    "run.attn(\"cascade\", experiment_dir=exp.get_output_dir())"
   ]
  },
  {
   "cell_type": "code",
   "execution_count": 5,
   "id": "ffaef964-db33-4e82-a4b9-efa04169269f",
   "metadata": {},
   "outputs": [
    {
     "data": {
      "application/vnd.jupyter.widget-view+json": {
       "model_id": "bbb57cf89f994331bafb750034315409",
       "version_major": 2,
       "version_minor": 0
      },
      "text/plain": [
       "Evaluating models:   0%|          | 0/2 [00:00<?, ?combination/s]"
      ]
     },
     "metadata": {},
     "output_type": "display_data"
    },
    {
     "name": "stdout",
     "output_type": "stream",
     "text": [
      "Evaluating Pythia_SC_SG on 1K tokens\n",
      "Cascade __init__: Directly instantiating Transformer for Pythia_SC_SG\n",
      "Evaluating pythia on 1K tokens\n",
      "Cascade __init__: Directly instantiating Transformer for pythia\n",
      "8\n"
     ]
    }
   ],
   "source": [
    "run.attn(\"arch\", experiment_dir=exp.get_output_dir())"
   ]
  },
  {
   "cell_type": "code",
   "execution_count": 6,
   "id": "9d8021a3-b773-4eb9-84af-db7767e4548c",
   "metadata": {},
   "outputs": [
    {
     "data": {
      "application/vnd.jupyter.widget-view+json": {
       "model_id": "a580cef4a59040619a0afb79140eb0fc",
       "version_major": 2,
       "version_minor": 0
      },
      "text/plain": [
       "Evaluating models:   0%|          | 0/2 [00:00<?, ?combination/s]"
      ]
     },
     "metadata": {},
     "output_type": "display_data"
    },
    {
     "name": "stdout",
     "output_type": "stream",
     "text": [
      "Evaluating Pythia_SC_SG on 1K tokens\n",
      "Cascade __init__: Directly instantiating Transformer for Pythia_SC_SG\n",
      "Evaluating pythia on 1K tokens\n",
      "Cascade __init__: Directly instantiating Transformer for pythia\n",
      "8\n"
     ]
    }
   ],
   "source": [
    "run.attn(\"binding\", experiment_dir=exp.get_output_dir())"
   ]
  },
  {
   "cell_type": "code",
   "execution_count": 7,
   "id": "74f506dc-6fbe-40ad-a57b-cb6a675a0b22",
   "metadata": {},
   "outputs": [
    {
     "data": {
      "application/vnd.jupyter.widget-view+json": {
       "model_id": "859ea760f6d34a13bf9465658620094b",
       "version_major": 2,
       "version_minor": 0
      },
      "text/plain": [
       "Evaluating models:   0%|          | 0/2 [00:00<?, ?combination/s]"
      ]
     },
     "metadata": {},
     "output_type": "display_data"
    },
    {
     "name": "stdout",
     "output_type": "stream",
     "text": [
      "Evaluating Pythia_SC_SG on 1K tokens\n",
      "Cascade __init__: Directly instantiating Transformer for Pythia_SC_SG\n"
     ]
    },
    {
     "ename": "ValueError",
     "evalue": "Bad match",
     "output_type": "error",
     "traceback": [
      "\u001b[0;31m---------------------------------------------------------------------------\u001b[0m",
      "\u001b[0;31mValueError\u001b[0m                                Traceback (most recent call last)",
      "Cell \u001b[0;32mIn[7], line 1\u001b[0m\n\u001b[0;32m----> 1\u001b[0m \u001b[43mrun\u001b[49m\u001b[38;5;241;43m.\u001b[39;49m\u001b[43mattn\u001b[49m\u001b[43m(\u001b[49m\u001b[38;5;124;43m\"\u001b[39;49m\u001b[38;5;124;43mflat\u001b[39;49m\u001b[38;5;124;43m\"\u001b[39;49m\u001b[43m,\u001b[49m\u001b[43m \u001b[49m\u001b[43mexperiment_dir\u001b[49m\u001b[38;5;241;43m=\u001b[39;49m\u001b[43mexp\u001b[49m\u001b[38;5;241;43m.\u001b[39;49m\u001b[43mget_output_dir\u001b[49m\u001b[43m(\u001b[49m\u001b[43m)\u001b[49m\u001b[43m)\u001b[49m\n",
      "File \u001b[0;32m~/workspace/notebooks/../src/scripts/runpythia.py:71\u001b[0m, in \u001b[0;36mattn\u001b[0;34m(accel, experiment_dir)\u001b[0m\n\u001b[1;32m     68\u001b[0m pregenerated_results\u001b[38;5;241m=\u001b[39m \u001b[38;5;124m\"\u001b[39m\u001b[38;5;124m../outputs/pregenerated/results/flat_validation.csv\u001b[39m\u001b[38;5;124m\"\u001b[39m\n\u001b[1;32m     69\u001b[0m timeloop_flat \u001b[38;5;241m=\u001b[39m Flat(\u001b[38;5;124m\"\u001b[39m\u001b[38;5;124mcloud\u001b[39m\u001b[38;5;124m\"\u001b[39m, model, seq_len, pregenerated_results)\n\u001b[0;32m---> 71\u001b[0m eval_stats \u001b[38;5;241m=\u001b[39m \u001b[43mtimeloop_flat\u001b[49m\u001b[38;5;241;43m.\u001b[39;49m\u001b[43meval\u001b[49m\u001b[43m(\u001b[49m\u001b[43mtimeloop_dir\u001b[49m\u001b[43m,\u001b[49m\u001b[43m \u001b[49m\u001b[38;5;28;43;01mFalse\u001b[39;49;00m\u001b[43m)\u001b[49m\n\u001b[1;32m     72\u001b[0m energy \u001b[38;5;241m=\u001b[39m timeloop_flat\u001b[38;5;241m.\u001b[39meval_energy(timeloop_dir, \u001b[38;5;124m\"\u001b[39m\u001b[38;5;124mflat\u001b[39m\u001b[38;5;124m\"\u001b[39m)\n\u001b[1;32m     73\u001b[0m util_stats \u001b[38;5;241m=\u001b[39m timeloop_flat\u001b[38;5;241m.\u001b[39meval_utilization(timeloop_dir, \u001b[38;5;28;01mFalse\u001b[39;00m)\n",
      "File \u001b[0;32m~/workspace/notebooks/../src/accel/flat.py:165\u001b[0m, in \u001b[0;36mFlat.eval\u001b[0;34m(self, output_dir, validation)\u001b[0m\n\u001b[1;32m    163\u001b[0m \u001b[38;5;28;01mdef\u001b[39;00m\u001b[38;5;250m \u001b[39m\u001b[38;5;21meval\u001b[39m(\u001b[38;5;28mself\u001b[39m, output_dir, validation\u001b[38;5;241m=\u001b[39m\u001b[38;5;28;01mFalse\u001b[39;00m):\n\u001b[1;32m    164\u001b[0m     \u001b[38;5;28;01mif\u001b[39;00m \u001b[38;5;124m\"\u001b[39m\u001b[38;5;124mtraffic\u001b[39m\u001b[38;5;124m\"\u001b[39m \u001b[38;5;129;01mnot\u001b[39;00m \u001b[38;5;129;01min\u001b[39;00m \u001b[38;5;28mself\u001b[39m\u001b[38;5;241m.\u001b[39mcomputed:\n\u001b[0;32m--> 165\u001b[0m         \u001b[38;5;28;43mself\u001b[39;49m\u001b[38;5;241;43m.\u001b[39;49m\u001b[43meval_components\u001b[49m\u001b[43m(\u001b[49m\u001b[43moutput_dir\u001b[49m\u001b[43m,\u001b[49m\u001b[43m \u001b[49m\u001b[43mvalidation\u001b[49m\u001b[43m)\u001b[49m\n\u001b[1;32m    167\u001b[0m     \u001b[38;5;66;03m# Use the TeAAL heuristics for combining results from different\u001b[39;00m\n\u001b[1;32m    168\u001b[0m     \u001b[38;5;66;03m# components\u001b[39;00m\n\u001b[1;32m    169\u001b[0m     latency \u001b[38;5;241m=\u001b[39m \u001b[38;5;28mmax\u001b[39m(\u001b[38;5;28mself\u001b[39m\u001b[38;5;241m.\u001b[39mcomputed[\u001b[38;5;124m\"\u001b[39m\u001b[38;5;124mmem_lat\u001b[39m\u001b[38;5;124m\"\u001b[39m], \u001b[38;5;28mself\u001b[39m\u001b[38;5;241m.\u001b[39mcomputed[\u001b[38;5;124m\"\u001b[39m\u001b[38;5;124mcomp_2d_lat\u001b[39m\u001b[38;5;124m\"\u001b[39m], \u001b[38;5;28mself\u001b[39m\u001b[38;5;241m.\u001b[39mcomputed[\u001b[38;5;124m\"\u001b[39m\u001b[38;5;124mcomp_1d_lat\u001b[39m\u001b[38;5;124m\"\u001b[39m])\n",
      "File \u001b[0;32m~/workspace/notebooks/../src/accel/flat.py:100\u001b[0m, in \u001b[0;36mFlat.eval_components\u001b[0;34m(self, output_dir, validation)\u001b[0m\n\u001b[1;32m     99\u001b[0m \u001b[38;5;28;01mdef\u001b[39;00m\u001b[38;5;250m \u001b[39m\u001b[38;5;21meval_components\u001b[39m(\u001b[38;5;28mself\u001b[39m, output_dir, validation\u001b[38;5;241m=\u001b[39m\u001b[38;5;28;01mFalse\u001b[39;00m):\n\u001b[0;32m--> 100\u001b[0m     prop_spilled \u001b[38;5;241m=\u001b[39m \u001b[38;5;28;43mself\u001b[39;49m\u001b[38;5;241;43m.\u001b[39;49m\u001b[43m__get_val\u001b[49m\u001b[43m(\u001b[49m\u001b[38;5;124;43m\"\u001b[39;49m\u001b[38;5;124;43mproportion_spilled\u001b[39;49m\u001b[38;5;124;43m\"\u001b[39;49m\u001b[43m)\u001b[49m\n\u001b[1;32m    102\u001b[0m     args \u001b[38;5;241m=\u001b[39m (\u001b[38;5;124m\"\u001b[39m\u001b[38;5;124mQK\u001b[39m\u001b[38;5;124m\"\u001b[39m, output_dir \u001b[38;5;241m/\u001b[39m \u001b[38;5;124m\"\u001b[39m\u001b[38;5;124mqk\u001b[39m\u001b[38;5;124m\"\u001b[39m)\n\u001b[1;32m    103\u001b[0m     \u001b[38;5;28mself\u001b[39m\u001b[38;5;241m.\u001b[39mbuild_input(\u001b[38;5;241m*\u001b[39margs)\n",
      "File \u001b[0;32m~/workspace/notebooks/../src/accel/flat.py:331\u001b[0m, in \u001b[0;36mFlat.__get_val\u001b[0;34m(self, key)\u001b[0m\n\u001b[1;32m    330\u001b[0m \u001b[38;5;28;01mdef\u001b[39;00m\u001b[38;5;250m \u001b[39m\u001b[38;5;21m__get_val\u001b[39m(\u001b[38;5;28mself\u001b[39m, key):\n\u001b[0;32m--> 331\u001b[0m     \u001b[38;5;28;01mreturn\u001b[39;00m \u001b[38;5;28;43mself\u001b[39;49m\u001b[38;5;241;43m.\u001b[39;49m\u001b[43mcsv\u001b[49m\u001b[38;5;241;43m.\u001b[39;49m\u001b[43mquery\u001b[49m\u001b[43m(\u001b[49m\u001b[43m(\u001b[49m\u001b[38;5;28;43mself\u001b[39;49m\u001b[38;5;241;43m.\u001b[39;49m\u001b[43mplatform\u001b[49m\u001b[43m,\u001b[49m\u001b[43m \u001b[49m\u001b[38;5;28;43mself\u001b[39;49m\u001b[38;5;241;43m.\u001b[39;49m\u001b[43mmodel\u001b[49m\u001b[43m,\u001b[49m\u001b[43m \u001b[49m\u001b[38;5;28;43mself\u001b[39;49m\u001b[38;5;241;43m.\u001b[39;49m\u001b[43mseq_len\u001b[49m\u001b[43m)\u001b[49m\u001b[43m,\u001b[49m\u001b[43m \u001b[49m\u001b[43m[\u001b[49m\u001b[43mkey\u001b[49m\u001b[43m]\u001b[49m\u001b[43m)\u001b[49m[key]\n",
      "File \u001b[0;32m~/workspace/notebooks/../src/utils/csv_utils.py:21\u001b[0m, in \u001b[0;36mCSVUtils.query\u001b[0;34m(self, matches, queries)\u001b[0m\n\u001b[1;32m     18\u001b[0m         line \u001b[38;5;241m=\u001b[39m f\u001b[38;5;241m.\u001b[39mreadline()\n\u001b[1;32m     20\u001b[0m         \u001b[38;5;28;01mif\u001b[39;00m line \u001b[38;5;241m==\u001b[39m \u001b[38;5;124m\"\u001b[39m\u001b[38;5;124m\"\u001b[39m:\n\u001b[0;32m---> 21\u001b[0m             \u001b[38;5;28;01mraise\u001b[39;00m \u001b[38;5;167;01mValueError\u001b[39;00m(\u001b[38;5;124m\"\u001b[39m\u001b[38;5;124mBad match\u001b[39m\u001b[38;5;124m\"\u001b[39m)\n\u001b[1;32m     23\u001b[0m split \u001b[38;5;241m=\u001b[39m line\u001b[38;5;241m.\u001b[39mstrip()\u001b[38;5;241m.\u001b[39msplit(\u001b[38;5;124m\"\u001b[39m\u001b[38;5;124m,\u001b[39m\u001b[38;5;124m\"\u001b[39m)\n\u001b[1;32m     25\u001b[0m query_dict \u001b[38;5;241m=\u001b[39m {}\n",
      "\u001b[0;31mValueError\u001b[0m: Bad match"
     ]
    }
   ],
   "source": [
    "run.attn(\"flat\", experiment_dir=exp.get_output_dir())"
   ]
  },
  {
   "cell_type": "code",
   "execution_count": 8,
   "id": "9ba3044b-b8a8-46a3-96e2-5d80d29f0451",
   "metadata": {},
   "outputs": [
    {
     "ename": "IndexError",
     "evalue": "list index out of range",
     "output_type": "error",
     "traceback": [
      "\u001b[0;31m---------------------------------------------------------------------------\u001b[0m",
      "\u001b[0;31mIndexError\u001b[0m                                Traceback (most recent call last)",
      "Cell \u001b[0;32mIn[8], line 3\u001b[0m\n\u001b[1;32m      1\u001b[0m experiment_dir \u001b[38;5;241m=\u001b[39m exp\u001b[38;5;241m.\u001b[39mget_output_dir()\n\u001b[1;32m      2\u001b[0m data \u001b[38;5;241m=\u001b[39m graph\u001b[38;5;241m.\u001b[39mload_data(\u001b[38;5;124m\"\u001b[39m\u001b[38;5;124mutil_2d\u001b[39m\u001b[38;5;124m\"\u001b[39m, experiment_dir\u001b[38;5;241m=\u001b[39mexperiment_dir)\n\u001b[0;32m----> 3\u001b[0m \u001b[43mgraph\u001b[49m\u001b[38;5;241;43m.\u001b[39;49m\u001b[43mdraw_bar_graph\u001b[49m\u001b[43m(\u001b[49m\u001b[43mdata\u001b[49m\u001b[43m,\u001b[49m\u001b[43m \u001b[49m\u001b[38;5;124;43m\"\u001b[39;49m\u001b[38;5;124;43mUtilization 2D\u001b[39;49m\u001b[38;5;124;43m\"\u001b[39;49m\u001b[43m,\u001b[49m\u001b[43m \u001b[49m\u001b[38;5;124;43m\"\u001b[39;49m\u001b[38;5;124;43mfig6b\u001b[39;49m\u001b[38;5;124;43m\"\u001b[39;49m\u001b[43m,\u001b[49m\u001b[43m \u001b[49m\u001b[43mexperiment_dir\u001b[49m\u001b[38;5;241;43m=\u001b[39;49m\u001b[43mexperiment_dir\u001b[49m\u001b[43m)\u001b[49m\n",
      "File \u001b[0;32m~/workspace/notebooks/../src/utils/graph.py:151\u001b[0m, in \u001b[0;36mdraw_bar_graph\u001b[0;34m(data, ylabel, fn, ymax, experiment_dir)\u001b[0m\n\u001b[1;32m    148\u001b[0m     order \u001b[38;5;241m=\u001b[39m \u001b[38;5;28mrange\u001b[39m(\u001b[38;5;28mlen\u001b[39m(accels))\n\u001b[1;32m    150\u001b[0m \u001b[38;5;66;03m# Format the legend\u001b[39;00m\n\u001b[0;32m--> 151\u001b[0m legend \u001b[38;5;241m=\u001b[39m plt\u001b[38;5;241m.\u001b[39mlegend([handles[idx] \u001b[38;5;28;01mfor\u001b[39;00m idx \u001b[38;5;129;01min\u001b[39;00m order],[labels[idx] \u001b[38;5;28;01mfor\u001b[39;00m idx \u001b[38;5;129;01min\u001b[39;00m order],\n\u001b[1;32m    152\u001b[0m            loc\u001b[38;5;241m=\u001b[39m\u001b[38;5;124m\"\u001b[39m\u001b[38;5;124mcenter left\u001b[39m\u001b[38;5;124m\"\u001b[39m, bbox_to_anchor\u001b[38;5;241m=\u001b[39m(\u001b[38;5;241m1\u001b[39m, \u001b[38;5;241m0.5\u001b[39m), fontsize\u001b[38;5;241m=\u001b[39mfontsize)\n\u001b[1;32m    153\u001b[0m legend\u001b[38;5;241m.\u001b[39mget_frame()\u001b[38;5;241m.\u001b[39mset_facecolor(\u001b[38;5;124m'\u001b[39m\u001b[38;5;124mnone\u001b[39m\u001b[38;5;124m'\u001b[39m)\n\u001b[1;32m    154\u001b[0m legend\u001b[38;5;241m.\u001b[39mget_frame()\u001b[38;5;241m.\u001b[39mset_edgecolor(\u001b[38;5;124m'\u001b[39m\u001b[38;5;124mnone\u001b[39m\u001b[38;5;124m'\u001b[39m)\n",
      "File \u001b[0;32m~/workspace/notebooks/../src/utils/graph.py:151\u001b[0m, in \u001b[0;36m<listcomp>\u001b[0;34m(.0)\u001b[0m\n\u001b[1;32m    148\u001b[0m     order \u001b[38;5;241m=\u001b[39m \u001b[38;5;28mrange\u001b[39m(\u001b[38;5;28mlen\u001b[39m(accels))\n\u001b[1;32m    150\u001b[0m \u001b[38;5;66;03m# Format the legend\u001b[39;00m\n\u001b[0;32m--> 151\u001b[0m legend \u001b[38;5;241m=\u001b[39m plt\u001b[38;5;241m.\u001b[39mlegend([\u001b[43mhandles\u001b[49m\u001b[43m[\u001b[49m\u001b[43midx\u001b[49m\u001b[43m]\u001b[49m \u001b[38;5;28;01mfor\u001b[39;00m idx \u001b[38;5;129;01min\u001b[39;00m order],[labels[idx] \u001b[38;5;28;01mfor\u001b[39;00m idx \u001b[38;5;129;01min\u001b[39;00m order],\n\u001b[1;32m    152\u001b[0m            loc\u001b[38;5;241m=\u001b[39m\u001b[38;5;124m\"\u001b[39m\u001b[38;5;124mcenter left\u001b[39m\u001b[38;5;124m\"\u001b[39m, bbox_to_anchor\u001b[38;5;241m=\u001b[39m(\u001b[38;5;241m1\u001b[39m, \u001b[38;5;241m0.5\u001b[39m), fontsize\u001b[38;5;241m=\u001b[39mfontsize)\n\u001b[1;32m    153\u001b[0m legend\u001b[38;5;241m.\u001b[39mget_frame()\u001b[38;5;241m.\u001b[39mset_facecolor(\u001b[38;5;124m'\u001b[39m\u001b[38;5;124mnone\u001b[39m\u001b[38;5;124m'\u001b[39m)\n\u001b[1;32m    154\u001b[0m legend\u001b[38;5;241m.\u001b[39mget_frame()\u001b[38;5;241m.\u001b[39mset_edgecolor(\u001b[38;5;124m'\u001b[39m\u001b[38;5;124mnone\u001b[39m\u001b[38;5;124m'\u001b[39m)\n",
      "\u001b[0;31mIndexError\u001b[0m: list index out of range"
     ]
    },
    {
     "data": {
      "image/png": "[encoded data removed]",
      "text/plain": [
       "<Figure size 1333.38x400 with 2 Axes>"
      ]
     },
     "metadata": {},
     "output_type": "display_data"
    }
   ],
   "source": [
    "experiment_dir = exp.get_output_dir()\n",
    "data = graph.load_data(\"util_2d\", experiment_dir=experiment_dir)\n",
    "graph.draw_bar_graph(data, \"Utilization 2D\", \"fig6b\", experiment_dir=experiment_dir)"
   ]
  },
  {
   "cell_type": "code",
   "execution_count": 8,
   "id": "aa17d56a-9f52-4c5b-a0ab-38892cdaa77d",
   "metadata": {},
   "outputs": [
    {
     "data": {
      "application/vnd.jupyter.widget-view+json": {
       "model_id": "074cad73bd544026bf3aac2dc30fda89",
       "version_major": 2,
       "version_minor": 0
      },
      "text/plain": [
       "Evaluating models:   0%|          | 0/4 [00:00<?, ?combination/s]"
      ]
     },
     "metadata": {},
     "output_type": "display_data"
    },
    {
     "name": "stdout",
     "output_type": "stream",
     "text": [
      "Evaluating Pythia_SC_SG on 1K tokens\n",
      "Cascade __init__: Directly instantiating Transformer for Pythia_SC_SG\n"
     ]
    },
    {
     "ename": "ValueError",
     "evalue": "Bad match",
     "output_type": "error",
     "traceback": [
      "\u001b[0;31m---------------------------------------------------------------------------\u001b[0m",
      "\u001b[0;31mValueError\u001b[0m                                Traceback (most recent call last)",
      "Cell \u001b[0;32mIn[8], line 1\u001b[0m\n\u001b[0;32m----> 1\u001b[0m \u001b[43mrun\u001b[49m\u001b[38;5;241;43m.\u001b[39;49m\u001b[43mattn\u001b[49m\u001b[43m(\u001b[49m\u001b[38;5;124;43m\"\u001b[39;49m\u001b[38;5;124;43mflat\u001b[39;49m\u001b[38;5;124;43m\"\u001b[39;49m\u001b[43m,\u001b[49m\u001b[43m \u001b[49m\u001b[43mexperiment_dir\u001b[49m\u001b[38;5;241;43m=\u001b[39;49m\u001b[43mexp\u001b[49m\u001b[38;5;241;43m.\u001b[39;49m\u001b[43mget_output_dir\u001b[49m\u001b[43m(\u001b[49m\u001b[43m)\u001b[49m\u001b[43m)\u001b[49m\n",
      "File \u001b[0;32m~/workspace/notebooks/../src/scripts/runpythia.py:70\u001b[0m, in \u001b[0;36mattn\u001b[0;34m(accel, experiment_dir)\u001b[0m\n\u001b[1;32m     67\u001b[0m pregenerated_results\u001b[38;5;241m=\u001b[39m \u001b[38;5;124m\"\u001b[39m\u001b[38;5;124m../outputs/pregenerated/results/flat_validation.csv\u001b[39m\u001b[38;5;124m\"\u001b[39m\n\u001b[1;32m     68\u001b[0m timeloop_flat \u001b[38;5;241m=\u001b[39m Flat(\u001b[38;5;124m\"\u001b[39m\u001b[38;5;124mcloud\u001b[39m\u001b[38;5;124m\"\u001b[39m, model, seq_len, pregenerated_results)\n\u001b[0;32m---> 70\u001b[0m eval_stats \u001b[38;5;241m=\u001b[39m \u001b[43mtimeloop_flat\u001b[49m\u001b[38;5;241;43m.\u001b[39;49m\u001b[43meval\u001b[49m\u001b[43m(\u001b[49m\u001b[43mtimeloop_dir\u001b[49m\u001b[43m,\u001b[49m\u001b[43m \u001b[49m\u001b[38;5;28;43;01mFalse\u001b[39;49;00m\u001b[43m)\u001b[49m\n\u001b[1;32m     71\u001b[0m energy \u001b[38;5;241m=\u001b[39m timeloop_flat\u001b[38;5;241m.\u001b[39meval_energy(timeloop_dir, \u001b[38;5;124m\"\u001b[39m\u001b[38;5;124mflat\u001b[39m\u001b[38;5;124m\"\u001b[39m)\n\u001b[1;32m     72\u001b[0m util_stats \u001b[38;5;241m=\u001b[39m timeloop_flat\u001b[38;5;241m.\u001b[39meval_utilization(timeloop_dir, \u001b[38;5;28;01mFalse\u001b[39;00m)\n",
      "File \u001b[0;32m~/workspace/notebooks/../src/accel/flat.py:165\u001b[0m, in \u001b[0;36mFlat.eval\u001b[0;34m(self, output_dir, validation)\u001b[0m\n\u001b[1;32m    163\u001b[0m \u001b[38;5;28;01mdef\u001b[39;00m\u001b[38;5;250m \u001b[39m\u001b[38;5;21meval\u001b[39m(\u001b[38;5;28mself\u001b[39m, output_dir, validation\u001b[38;5;241m=\u001b[39m\u001b[38;5;28;01mFalse\u001b[39;00m):\n\u001b[1;32m    164\u001b[0m     \u001b[38;5;28;01mif\u001b[39;00m \u001b[38;5;124m\"\u001b[39m\u001b[38;5;124mtraffic\u001b[39m\u001b[38;5;124m\"\u001b[39m \u001b[38;5;129;01mnot\u001b[39;00m \u001b[38;5;129;01min\u001b[39;00m \u001b[38;5;28mself\u001b[39m\u001b[38;5;241m.\u001b[39mcomputed:\n\u001b[0;32m--> 165\u001b[0m         \u001b[38;5;28;43mself\u001b[39;49m\u001b[38;5;241;43m.\u001b[39;49m\u001b[43meval_components\u001b[49m\u001b[43m(\u001b[49m\u001b[43moutput_dir\u001b[49m\u001b[43m,\u001b[49m\u001b[43m \u001b[49m\u001b[43mvalidation\u001b[49m\u001b[43m)\u001b[49m\n\u001b[1;32m    167\u001b[0m     \u001b[38;5;66;03m# Use the TeAAL heuristics for combining results from different\u001b[39;00m\n\u001b[1;32m    168\u001b[0m     \u001b[38;5;66;03m# components\u001b[39;00m\n\u001b[1;32m    169\u001b[0m     latency \u001b[38;5;241m=\u001b[39m \u001b[38;5;28mmax\u001b[39m(\u001b[38;5;28mself\u001b[39m\u001b[38;5;241m.\u001b[39mcomputed[\u001b[38;5;124m\"\u001b[39m\u001b[38;5;124mmem_lat\u001b[39m\u001b[38;5;124m\"\u001b[39m], \u001b[38;5;28mself\u001b[39m\u001b[38;5;241m.\u001b[39mcomputed[\u001b[38;5;124m\"\u001b[39m\u001b[38;5;124mcomp_2d_lat\u001b[39m\u001b[38;5;124m\"\u001b[39m], \u001b[38;5;28mself\u001b[39m\u001b[38;5;241m.\u001b[39mcomputed[\u001b[38;5;124m\"\u001b[39m\u001b[38;5;124mcomp_1d_lat\u001b[39m\u001b[38;5;124m\"\u001b[39m])\n",
      "File \u001b[0;32m~/workspace/notebooks/../src/accel/flat.py:100\u001b[0m, in \u001b[0;36mFlat.eval_components\u001b[0;34m(self, output_dir, validation)\u001b[0m\n\u001b[1;32m     99\u001b[0m \u001b[38;5;28;01mdef\u001b[39;00m\u001b[38;5;250m \u001b[39m\u001b[38;5;21meval_components\u001b[39m(\u001b[38;5;28mself\u001b[39m, output_dir, validation\u001b[38;5;241m=\u001b[39m\u001b[38;5;28;01mFalse\u001b[39;00m):\n\u001b[0;32m--> 100\u001b[0m     prop_spilled \u001b[38;5;241m=\u001b[39m \u001b[38;5;28;43mself\u001b[39;49m\u001b[38;5;241;43m.\u001b[39;49m\u001b[43m__get_val\u001b[49m\u001b[43m(\u001b[49m\u001b[38;5;124;43m\"\u001b[39;49m\u001b[38;5;124;43mproportion_spilled\u001b[39;49m\u001b[38;5;124;43m\"\u001b[39;49m\u001b[43m)\u001b[49m\n\u001b[1;32m    102\u001b[0m     args \u001b[38;5;241m=\u001b[39m (\u001b[38;5;124m\"\u001b[39m\u001b[38;5;124mQK\u001b[39m\u001b[38;5;124m\"\u001b[39m, output_dir \u001b[38;5;241m/\u001b[39m \u001b[38;5;124m\"\u001b[39m\u001b[38;5;124mqk\u001b[39m\u001b[38;5;124m\"\u001b[39m)\n\u001b[1;32m    103\u001b[0m     \u001b[38;5;28mself\u001b[39m\u001b[38;5;241m.\u001b[39mbuild_input(\u001b[38;5;241m*\u001b[39margs)\n",
      "File \u001b[0;32m~/workspace/notebooks/../src/accel/flat.py:331\u001b[0m, in \u001b[0;36mFlat.__get_val\u001b[0;34m(self, key)\u001b[0m\n\u001b[1;32m    330\u001b[0m \u001b[38;5;28;01mdef\u001b[39;00m\u001b[38;5;250m \u001b[39m\u001b[38;5;21m__get_val\u001b[39m(\u001b[38;5;28mself\u001b[39m, key):\n\u001b[0;32m--> 331\u001b[0m     \u001b[38;5;28;01mreturn\u001b[39;00m \u001b[38;5;28;43mself\u001b[39;49m\u001b[38;5;241;43m.\u001b[39;49m\u001b[43mcsv\u001b[49m\u001b[38;5;241;43m.\u001b[39;49m\u001b[43mquery\u001b[49m\u001b[43m(\u001b[49m\u001b[43m(\u001b[49m\u001b[38;5;28;43mself\u001b[39;49m\u001b[38;5;241;43m.\u001b[39;49m\u001b[43mplatform\u001b[49m\u001b[43m,\u001b[49m\u001b[43m \u001b[49m\u001b[38;5;28;43mself\u001b[39;49m\u001b[38;5;241;43m.\u001b[39;49m\u001b[43mmodel\u001b[49m\u001b[43m,\u001b[49m\u001b[43m \u001b[49m\u001b[38;5;28;43mself\u001b[39;49m\u001b[38;5;241;43m.\u001b[39;49m\u001b[43mseq_len\u001b[49m\u001b[43m)\u001b[49m\u001b[43m,\u001b[49m\u001b[43m \u001b[49m\u001b[43m[\u001b[49m\u001b[43mkey\u001b[49m\u001b[43m]\u001b[49m\u001b[43m)\u001b[49m[key]\n",
      "File \u001b[0;32m~/workspace/notebooks/../src/utils/csv_utils.py:21\u001b[0m, in \u001b[0;36mCSVUtils.query\u001b[0;34m(self, matches, queries)\u001b[0m\n\u001b[1;32m     18\u001b[0m         line \u001b[38;5;241m=\u001b[39m f\u001b[38;5;241m.\u001b[39mreadline()\n\u001b[1;32m     20\u001b[0m         \u001b[38;5;28;01mif\u001b[39;00m line \u001b[38;5;241m==\u001b[39m \u001b[38;5;124m\"\u001b[39m\u001b[38;5;124m\"\u001b[39m:\n\u001b[0;32m---> 21\u001b[0m             \u001b[38;5;28;01mraise\u001b[39;00m \u001b[38;5;167;01mValueError\u001b[39;00m(\u001b[38;5;124m\"\u001b[39m\u001b[38;5;124mBad match\u001b[39m\u001b[38;5;124m\"\u001b[39m)\n\u001b[1;32m     23\u001b[0m split \u001b[38;5;241m=\u001b[39m line\u001b[38;5;241m.\u001b[39mstrip()\u001b[38;5;241m.\u001b[39msplit(\u001b[38;5;124m\"\u001b[39m\u001b[38;5;124m,\u001b[39m\u001b[38;5;124m\"\u001b[39m)\n\u001b[1;32m     25\u001b[0m query_dict \u001b[38;5;241m=\u001b[39m {}\n",
      "\u001b[0;31mValueError\u001b[0m: Bad match"
     ]
    }
   ],
   "source": []
  },
  {
   "cell_type": "code",
   "execution_count": null,
   "id": "bd6cada7-7dbe-4add-8dd9-9aace95c9ccc",
   "metadata": {},
   "outputs": [],
   "source": []
  }
 ],
 "metadata": {
  "kernelspec": {
   "display_name": "Python 3 (ipykernel)",
   "language": "python",
   "name": "python3"
  },
  "language_info": {
   "codemirror_mode": {
    "name": "ipython",
    "version": 3
   },
   "file_extension": ".py",
   "mimetype": "text/x-python",
   "name": "python",
   "nbconvert_exporter": "python",
   "pygments_lexer": "ipython3",
   "version": "3.10.12"
  }
 },
 "nbformat": 4,
 "nbformat_minor": 5
}
